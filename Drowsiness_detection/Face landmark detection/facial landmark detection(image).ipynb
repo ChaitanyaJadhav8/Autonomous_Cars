{
 "cells": [
  {
   "cell_type": "code",
   "execution_count": 2,
   "metadata": {},
   "outputs": [],
   "source": [
    "import dlib\n",
    "import numpy as np\n",
    "import cv2 as cv"
   ]
  },
  {
   "cell_type": "code",
   "execution_count": 3,
   "metadata": {},
   "outputs": [],
   "source": [
    "img = cv.imread('Mona Lisa.jpg')\n",
    "gray = cv.cvtColor(img, cv.COLOR_BGR2GRAY)\n",
    "\n",
    "face_detector = dlib.get_frontal_face_detector()\n",
    "landmark_predictor = dlib.shape_predictor('shape_predictor_68_face_landmarks.dat')"
   ]
  },
  {
   "cell_type": "code",
   "execution_count": 4,
   "metadata": {},
   "outputs": [],
   "source": [
    "faces = face_detector(gray)"
   ]
  },
  {
   "cell_type": "code",
   "execution_count": 5,
   "metadata": {},
   "outputs": [
    {
     "data": {
      "text/plain": [
       "True"
      ]
     },
     "execution_count": 5,
     "metadata": {},
     "output_type": "execute_result"
    }
   ],
   "source": [
    "for face in faces:\n",
    "    x1 = face.left()\n",
    "    y1 = face.top()\n",
    "    x2 = face.right()\n",
    "    y2 = face.bottom()\n",
    "    \n",
    "landmarks = landmark_predictor(gray, face)\n",
    "\n",
    "for point in range(36,42):\n",
    "\n",
    "    x = int(landmarks.part(point).x)\n",
    "    y = int(landmarks.part(point).y)\n",
    "\n",
    "    cv.circle(img, (x,y), 10, (255,0,0), -1)\n",
    "\n",
    "for point in range(42,48):\n",
    "    x = int(landmarks.part(point).x)\n",
    "    y = int(landmarks.part(point).y)\n",
    "    \n",
    "    cv.circle(img, (x,y), 10, (0,255,0), -1)\n",
    "    \n",
    "for point in range(48,68):\n",
    "    x = int(landmarks.part(point).x)\n",
    "    y = int(landmarks.part(point).y)\n",
    "    \n",
    "    cv.circle(img, (x,y), 10, (0,0,255), -1)\n",
    "    \n",
    "    \n",
    "cv.imwrite('result1.jpg', img)"
   ]
  }
 ],
 "metadata": {
  "kernelspec": {
   "display_name": "Python 3",
   "language": "python",
   "name": "python3"
  },
  "language_info": {
   "codemirror_mode": {
    "name": "ipython",
    "version": 3
   },
   "file_extension": ".py",
   "mimetype": "text/x-python",
   "name": "python",
   "nbconvert_exporter": "python",
   "pygments_lexer": "ipython3",
   "version": "3.7.10"
  }
 },
 "nbformat": 4,
 "nbformat_minor": 4
}
